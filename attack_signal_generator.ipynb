{
 "cells": [
  {
   "cell_type": "code",
   "execution_count": 12,
   "metadata": {},
   "outputs": [],
   "source": [
    "subcarrier_map = {\n",
    "    1:-28,\n",
    "    2:-26,\n",
    "    3:-24,\n",
    "    4:-22,\n",
    "    5:-20,\n",
    "    6:-18,\n",
    "    7:-16,\n",
    "    8:-14,\n",
    "    9:-12,\n",
    "    10:-10,\n",
    "    11:-8,\n",
    "    12:-6,\n",
    "    13:-4,\n",
    "    14:-2,\n",
    "    15:-1,\n",
    "    16:1,\n",
    "    17:3,\n",
    "    18:5,\n",
    "    19:7,\n",
    "    20:9,\n",
    "    21:11,\n",
    "    22:13,\n",
    "    23:15,\n",
    "    24:17,\n",
    "    25:19,\n",
    "    26:21,\n",
    "    27:23,\n",
    "    28:25,\n",
    "    29:27,\n",
    "    30:28,\n",
    "}"
   ]
  },
  {
   "cell_type": "code",
   "execution_count": 43,
   "metadata": {},
   "outputs": [],
   "source": [
    "# 'v' is variance;  'm' is mean\n",
    "attack_configs = {\n",
    "    4: {'v': 1, 'm': 0},\n",
    "    7: {'v': 3, 'm': 0},\n",
    "    28: {'v': 5, 'm': 0},\n",
    "}"
   ]
  },
  {
   "cell_type": "code",
   "execution_count": 42,
   "metadata": {},
   "outputs": [],
   "source": [
    "# check spec\n",
    "import matplotlib.pyplot as plt\n",
    "from scipy.fft import fft, fftfreq\n",
    "\n",
    "def plot_spec(y, sample_rate = 20e6):\n",
    "  yf = fft(y)\n",
    "  N = len(y)\n",
    "  xf = fftfreq(N, 1 / sample_rate)/1e6\n",
    "  plt.plot(xf, np.abs(yf))\n",
    "  plt.ylabel('Amplitude')\n",
    "  plt.xlabel('Frequency(MHz)')\n",
    "  plt.show()"
   ]
  },
  {
   "cell_type": "code",
   "execution_count": 47,
   "metadata": {},
   "outputs": [
    {
     "data": {
      "image/png": "[encoded data removed]",
      "text/plain": [
       "<Figure size 432x288 with 1 Axes>"
      ]
     },
     "metadata": {
      "needs_background": "light"
     },
     "output_type": "display_data"
    }
   ],
   "source": [
    "import numpy as np\n",
    "base_signal = np.load('./signal_set/base.npy')\n",
    "\n",
    "result = np.zeros(np.shape(base_signal))\n",
    "\n",
    "for subidx in attack_configs:\n",
    "    subcarrier_offset = subcarrier_map[subidx]\n",
    "    \n",
    "    config = attack_configs[subidx]\n",
    "    sine_wave = np.load('./signal_set/sine_{}.npy'.format(abs(subcarrier_offset)))\n",
    "    \n",
    "    if subcarrier_offset > 0:\n",
    "        result = result +  (config['v'] * base_signal + config['m']) * sine_wave \n",
    "    else:\n",
    "        result = result +  (config['v'] * base_signal + config['m']) / sine_wave \n",
    "\n",
    "plot_spec(result)"
   ]
  }
 ],
 "metadata": {
  "interpreter": {
   "hash": "aee8b7b246df8f9039afb4144a1f6fd8d2ca17a180786b69acc140d282b71a49"
  },
  "kernelspec": {
   "display_name": "Python 3.9.12 64-bit",
   "language": "python",
   "name": "python3"
  },
  "language_info": {
   "codemirror_mode": {
    "name": "ipython",
    "version": 3
   },
   "file_extension": ".py",
   "mimetype": "text/x-python",
   "name": "python",
   "nbconvert_exporter": "python",
   "pygments_lexer": "ipython3",
   "version": "3.7.11"
  },
  "orig_nbformat": 4
 },
 "nbformat": 4,
 "nbformat_minor": 2
}
